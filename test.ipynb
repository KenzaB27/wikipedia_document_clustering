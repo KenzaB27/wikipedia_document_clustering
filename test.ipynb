{
 "metadata": {
  "language_info": {
   "codemirror_mode": {
    "name": "ipython",
    "version": 3
   },
   "file_extension": ".py",
   "mimetype": "text/x-python",
   "name": "python",
   "nbconvert_exporter": "python",
   "pygments_lexer": "ipython3",
   "version": "3.8.6-final"
  },
  "orig_nbformat": 2,
  "kernelspec": {
   "name": "python3",
   "display_name": "Python 3",
   "language": "python"
  }
 },
 "nbformat": 4,
 "nbformat_minor": 2,
 "cells": [
  {
   "cell_type": "code",
   "execution_count": 1,
   "metadata": {},
   "outputs": [],
   "source": [
    "import pandas as pd\n",
    "import numpy as np\n",
    "import string\n",
    "import bs4\n",
    "import importlib\n",
    "import utils.preprocessing as preprocessing\n",
    "import nltk\n",
    "import contractions\n"
   ]
  },
  {
   "cell_type": "code",
   "execution_count": 80,
   "metadata": {},
   "outputs": [
    {
     "output_type": "execute_result",
     "data": {
      "text/plain": [
       "<module 'contractions' from 'C:\\\\Users\\\\utilisateur\\\\AppData\\\\Local\\\\Programs\\\\Python\\\\Python38\\\\lib\\\\site-packages\\\\contractions\\\\__init__.py'>"
      ]
     },
     "metadata": {},
     "execution_count": 80
    }
   ],
   "source": [
    "nltk.__version__\n",
    "bs4.__version__\n",
    "contractions"
   ]
  },
  {
   "source": [
    "# Data Preprocessing\n",
    "\n",
    "In this first part we will be Preprocessing text data to prepare them for clustering and classification. This will include the following steps:\n",
    "* Noise Removal\n",
    "* Tekenization & Segmentation \n",
    "* Normalization"
   ],
   "cell_type": "markdown",
   "metadata": {}
  },
  {
   "cell_type": "code",
   "execution_count": 94,
   "metadata": {
    "tags": []
   },
   "outputs": [
    {
     "output_type": "execute_result",
     "data": {
      "text/plain": [
       "                  title                                            content  \\\n",
       "0            Accounting  <p class=\"mw-empty-elt\">\\n</p>\\n\\n<p><b>Accoun...   \n",
       "1              Commerce  <p><b>Commerce</b> is the exchange of goods an...   \n",
       "2               Finance  <p><b>Finance</b> is a term for matters regard...   \n",
       "3  Industrial relations  <p><b>Industrial relations</b> or <b>employmen...   \n",
       "4            Management  <p><b>Management</b> (or <b>managing</b>) is t...   \n",
       "\n",
       "      topic  \n",
       "0  business  \n",
       "1  business  \n",
       "2  business  \n",
       "3  business  \n",
       "4  business  "
      ],
      "text/html": "<div>\n<style scoped>\n    .dataframe tbody tr th:only-of-type {\n        vertical-align: middle;\n    }\n\n    .dataframe tbody tr th {\n        vertical-align: top;\n    }\n\n    .dataframe thead th {\n        text-align: right;\n    }\n</style>\n<table border=\"1\" class=\"dataframe\">\n  <thead>\n    <tr style=\"text-align: right;\">\n      <th></th>\n      <th>title</th>\n      <th>content</th>\n      <th>topic</th>\n    </tr>\n  </thead>\n  <tbody>\n    <tr>\n      <th>0</th>\n      <td>Accounting</td>\n      <td>&lt;p class=\"mw-empty-elt\"&gt;\\n&lt;/p&gt;\\n\\n&lt;p&gt;&lt;b&gt;Accoun...</td>\n      <td>business</td>\n    </tr>\n    <tr>\n      <th>1</th>\n      <td>Commerce</td>\n      <td>&lt;p&gt;&lt;b&gt;Commerce&lt;/b&gt; is the exchange of goods an...</td>\n      <td>business</td>\n    </tr>\n    <tr>\n      <th>2</th>\n      <td>Finance</td>\n      <td>&lt;p&gt;&lt;b&gt;Finance&lt;/b&gt; is a term for matters regard...</td>\n      <td>business</td>\n    </tr>\n    <tr>\n      <th>3</th>\n      <td>Industrial relations</td>\n      <td>&lt;p&gt;&lt;b&gt;Industrial relations&lt;/b&gt; or &lt;b&gt;employmen...</td>\n      <td>business</td>\n    </tr>\n    <tr>\n      <th>4</th>\n      <td>Management</td>\n      <td>&lt;p&gt;&lt;b&gt;Management&lt;/b&gt; (or &lt;b&gt;managing&lt;/b&gt;) is t...</td>\n      <td>business</td>\n    </tr>\n  </tbody>\n</table>\n</div>"
     },
     "metadata": {},
     "execution_count": 94
    }
   ],
   "source": [
    "df = pd.read_pickle(\"data/dataset_business_technology_cybersecurity.pickle\")\n",
    "df = pd.DataFrame(df)\n",
    "df.head(5)"
   ]
  },
  {
   "cell_type": "code",
   "execution_count": 98,
   "metadata": {},
   "outputs": [],
   "source": [
    "# explore the data format\n",
    "content = pd.DataFrame(df[\"content\"])\n",
    "content.head(5)\n",
    "content.to_csv(\"data/content.txt\")"
   ]
  },
  {
   "source": [
    "## Noise Removal\n",
    "As we are dealing with html web pages, we will need to remove all the unrelevant tokens including: html tags, javascript and css "
   ],
   "cell_type": "markdown",
   "metadata": {}
  },
  {
   "cell_type": "code",
   "execution_count": 99,
   "metadata": {},
   "outputs": [],
   "source": [
    "importlib.reload(preprocessing)\n",
    "\n",
    "df[\"content\"] = preprocessing.remove_noise_from_df(df[\"content\"])\n"
   ]
  },
  {
   "cell_type": "code",
   "execution_count": 104,
   "metadata": {},
   "outputs": [],
   "source": [
    "df['content'] = df['content'].str.replace(',','')"
   ]
  },
  {
   "cell_type": "code",
   "execution_count": 105,
   "metadata": {},
   "outputs": [],
   "source": [
    "content = pd.DataFrame(df[\"content\"])\n",
    "content.head(5)\n",
    "content.to_csv(\"data/content2.txt\")"
   ]
  },
  {
   "cell_type": "code",
   "execution_count": 101,
   "metadata": {},
   "outputs": [
    {
     "output_type": "execute_result",
     "data": {
      "text/plain": [
       "                  title                                            content  \\\n",
       "0            Accounting  \\n\\nAccounting or accountancy is the measureme...   \n",
       "1              Commerce  Commerce is the exchange of goods and services...   \n",
       "2               Finance  Finance is a term for matters regarding the ma...   \n",
       "3  Industrial relations  Industrial relations or employment relations i...   \n",
       "4            Management  Management or managing is the administration o...   \n",
       "\n",
       "      topic  \n",
       "0  business  \n",
       "1  business  \n",
       "2  business  \n",
       "3  business  \n",
       "4  business  "
      ],
      "text/html": "<div>\n<style scoped>\n    .dataframe tbody tr th:only-of-type {\n        vertical-align: middle;\n    }\n\n    .dataframe tbody tr th {\n        vertical-align: top;\n    }\n\n    .dataframe thead th {\n        text-align: right;\n    }\n</style>\n<table border=\"1\" class=\"dataframe\">\n  <thead>\n    <tr style=\"text-align: right;\">\n      <th></th>\n      <th>title</th>\n      <th>content</th>\n      <th>topic</th>\n    </tr>\n  </thead>\n  <tbody>\n    <tr>\n      <th>0</th>\n      <td>Accounting</td>\n      <td>\\n\\nAccounting or accountancy is the measureme...</td>\n      <td>business</td>\n    </tr>\n    <tr>\n      <th>1</th>\n      <td>Commerce</td>\n      <td>Commerce is the exchange of goods and services...</td>\n      <td>business</td>\n    </tr>\n    <tr>\n      <th>2</th>\n      <td>Finance</td>\n      <td>Finance is a term for matters regarding the ma...</td>\n      <td>business</td>\n    </tr>\n    <tr>\n      <th>3</th>\n      <td>Industrial relations</td>\n      <td>Industrial relations or employment relations i...</td>\n      <td>business</td>\n    </tr>\n    <tr>\n      <th>4</th>\n      <td>Management</td>\n      <td>Management or managing is the administration o...</td>\n      <td>business</td>\n    </tr>\n  </tbody>\n</table>\n</div>"
     },
     "metadata": {},
     "execution_count": 101
    }
   ],
   "source": [
    "df.head(5)"
   ]
  },
  {
   "cell_type": "code",
   "execution_count": 84,
   "metadata": {},
   "outputs": [
    {
     "output_type": "execute_result",
     "data": {
      "text/plain": [
       "'in trade barter derived from baretor is a system of exchange where participants in a transaction directly exchange goods or services for other goods or services without using a medium of exchange such as money economists distinguish barter from gift economies in many ways barter for example features immediate reciprocal exchange not delayed in time barter usually takes place on a bilateral basis but may be multilateral ie mediated through a trade exchange in most developed countries barter usually only exists parallel to monetary systems to a very limited extent market actors use barter as a replacement for money as the method of exchange in times of monetary crisis such as when currency becomes unstable eg hyperinflation or a deflationary spiral or simply unavailable for conducting commerce\\nno ethnographic studies have shown that any present or past society has used barter without any other medium of exchange or measurement nor have anthropologists found evidence that money emerged from barter instead finding that giftgiving credit extended on a personal basis with an interpersonal balance maintained over the long term was the most usual means of exchange of goods and services nevertheless economists since the times of adam smith 17231790 taking nonspecific often wholly or inaccurately imagined premodern societies as examples have used the inefficiency of barter to explain the emergence of money of the economy and hence of the discipline of economics itself\\n\\n\\nadam smith the father of modern economics sought to demonstrate that markets and economies preexisted the state he argued against conventional wisdom that money was not the creation of governments markets emerged in his view out of the division of labor by which individuals began to specialize in specific crafts and hence had to depend on others for subsistence goods these goods were first exchanged by barter specialization depended on trade but was hindered by the double coincidence of wants which barter requires ie for the exchange to occur each participant must want what the other has to complete this hypothetical history craftsmen would stockpile one particular good be it salt or metal that they thought no one would refuse this is the origin of money according to smith money as a universally desired medium of exchange allows each half of the transaction to be separatedbarter is characterized in adam smiths the wealth of nations by a disparaging vocabulary haggling swapping dickering it has also been characterized as negative reciprocity or selfish profiteeringanthropologists have argued in contrast that when something resembling barter does occur in stateless societies it is almost always between strangers barter occurred between strangers not fellow villagers and hence cannot be used to naturalistically explain the origin of money without the state since most people engaged in trade knew each other exchange was fostered through the extension of credit marcel mauss author of the gift argued that the first economic contracts were to not act in ones economic selfinterest and that before money exchange was fostered through the processes of reciprocity and redistribution not barter everyday exchange relations  in such societies are characterized by generalized reciprocity or a noncalculative familial communism where each takes according to their needs and gives as they have\\n\\nsince direct barter does not require payment in money it can be utilized when money is in short supply when there is little information about the credit worthiness of trade partners or when there is a lack of trust between those trading\\nbarter is an option to those who cannot afford to store their small supply of wealth in money especially in hyperinflation situations where money devalues quickly\\n\\nthe limitations of barter are often explained in terms of its inefficiencies in facilitating exchange in comparison to money\\nit is said that barter is inefficient because\\n\\nthere needs to be a double coincidence of wants\\nfor barter to occur between two parties both parties need to have what the other wants\\nthere is no common measure of value\\nin a monetary economy money plays the role of a measure of value of all goods so their values can be assessed against each other this role may be absent in a barter economy\\nindivisibility of certain goods\\nif a person wants to buy a certain amount of anothers goods but only has for payment one indivisible unit of another good which is worth more than what the person wants to obtain a barter transaction cannot occur\\nlack of standards for deferred payments\\nthis is related to the absence of a common measure of value although if the debt is denominated in units of the good that will eventually be used in payment it is not a problem\\ndifficulty in storing wealth\\nif a society relies exclusively on perishable goods storing wealth for the future may be impractical  however some barter economies rely on durable goods like sheep or cattle for this purpose\\n\\nother anthropologists have questioned whether barter is typically between total strangers a form of barter known as silent trade silent trade also called silent barter dumb barter dumb here used in its old meaning of mute or depot trade is a method by which traders who cannot speak each others language can trade without talking however benjamin orlove has shown that while barter occurs through silent trade between strangers it also occurs in commercial markets as well because barter is a difficult way of conducting trade it will occur only where there are strong institutional constraints on the use of money or where the barter symbolically denotes a special social relationship and is used in welldefined conditions to sum up multipurpose money in markets is like lubrication for machines  necessary for the most efficient function but not necessary for the existence of the market itselfin his analysis of barter between coastal and inland villages in the trobriand islands keith hart highlighted the difference between highly ceremonial gift exchange between community leaders and the barter that occurs between individual households the haggling that takes place between strangers is possible because of the larger temporary political order established by the gift exchanges of leaders from this he concludes that barter is an atomized interaction predicated upon the presence of society ie that social order established by gift exchange and not typical between complete strangers\\n\\nas orlove noted barter may occur in commercial economies usually during periods of monetary crisis during such a crisis currency may be in short supply or highly devalued through hyperinflation in such cases money ceases to be the universal medium of exchange or standard of value money may be in such short supply that it becomes an item of barter itself rather than the means of exchange barter may also occur when people cannot afford to keep money as when hyperinflation quickly devalues itan example of this would be during the crisis in bolivarian venezuela when venezuelans resorted to bartering as a result of hyperinflation\\n\\neconomic historian karl polanyi has argued that where barter is widespread and cash supplies limited barter is aided by the use of credit brokerage and money as a unit of account ie used to price items all of these strategies are found in ancient economies including ptolemaic egypt they are also the basis for more recent barter exchange systemswhile onetoone bartering is practiced between individuals and businesses on an informal basis organized barter exchanges have developed to conduct third party bartering which helps overcome some of the limitations of barter a barter exchange operates as a broker and bank in which each participating member has an account that is debited when purchases are made and credited when sales are made\\nmodern barter and trade has evolved considerably to become an effective method of increasing sales conserving cash moving inventory and making use of excess production capacity for businesses around the world businesses in a barter earn trade credits instead of cash that are deposited into their account they then have the ability to purchase goods and services from other members utilizing their trade credits  they are not obligated to purchase from those whom they sold to and vice versa the exchange plays an important role because they provide the recordkeeping brokering expertise and monthly statements to each member commercial exchanges make money by charging a commission on each transaction either all on the buy side all on the sell side or a combination of both transaction fees typically run between 8 and 15throughout the 18th century retailers began to abandon the prevailing system of bartering retailers operating out of the palais complex in paris france were among the first in europe to abandon the bartering and adopt fixedprices thereby sparing their clientele the hassle of bartering the palais retailers stocked luxury goods that appealed to the wealthy elite and upper middle classes stores were fitted with long glass exterior windows which allowed the emerging middleclasses to window shop and indulge in fantasies even when they may not have been able to afford the high retail prices thus the palaisroyal became one of the first examples of a new style of shopping arcade which adopted the trappings of a sophisticated modern shopping complex and also changed pricing structures for both the aristocracy and the middle classes\\nlabour notes\\nthe owenite socialists in britain and the united states in the 1830s were the first to attempt to organize barter exchanges owenism developed a theory of equitable exchange as a critique of the exploitative wage relationship between capitalist and labourer by which all profit accrued to the capitalist to counteract the uneven playing field between employers and employed they proposed schemes of labour notes based on labour time thus institutionalizing owens demand that human labour not money be made the standard of value this alternate currency eliminated price variability between markets as well as the role of merchants who bought low and sold high the system arose in a period where paper currency was an innovation paper currency was an iou circulated by a bank a promise to pay not a payment in itself both merchants and an unstable paper currency created difficulties for direct producers\\nan alternate currency denominated in labour time would prevent profit taking by middlemen all goods exchanged would be priced only in terms of the amount of labour that went into them as expressed in the maxim cost the limit of price it became the basis of exchanges in london and in america where the idea was implemented at the new harmony communal settlement by josiah warren in 1826 and in his cincinnati time store in 1827 warren ideas were adopted by other owenites and currency reformers even though the labour exchanges were relatively short livedin england about 30 to 40 cooperative societies sent their surplus goods to an exchange bazaar for direct barter in london which later adopted a similar labour note the british association for promoting cooperative knowledge established an equitable labour exchange in 1830 this was expanded as the national equitable labour exchange in 1832 on grays inn road in london these efforts became the basis of the british cooperative movement of the 1840s in 1848 the socialist and first selfdesignated anarchist pierrejoseph proudhon postulated a system of time chits  in 1875 karl marx wrote of labor certificates arbeitszertifikaten in his critique of the gotha program of a certificate from society that the labourer has furnished such and such an amount of labour which can be used to draw from the social stock of means of consumption as much as costs the same amount of labourmichael linton this originated the term local exchange trading system let us in 1983 and for a time ran the comox valley letsystems in courtenay british columbia let us networks use interestfree local credit so direct swaps do not need to be made for instance a member may earn credit by doing childcare for one person and spend it later on carpentry with another person in the same network in let us unlike other local currencies no scrip is issued but rather transactions are recorded in a central location open to all members as credit is issued by the network members for the benefit of the members themselves let us are considered mutual credit systems\\n\\nlocal currencies\\nthe first exchange system was the swiss wir bank it was founded in 1934 as a result of currency shortages after the stock market crash of 1929 wir is both an abbreviation of wirtschaftsring economic circle and the word for we in german reminding participants that the economic circle is also a communityin australia and new zealand the largest barter exchange is bartercard founded in 1991 with offices in the united kingdom united states cyprus uae and thailand other than its name suggests it uses an electronic local currency the trade dollar\\n\\n\\nin business barter has the benefit that one gets to know each other one discourages investments for rent which is inefficient and one can impose trade sanctions on dishonest partnersaccording to the international reciprocal trade association the industry trade body more than 450000 businesses transacted 10 billion globally in 2008  and officials expect trade volume to grow by 15 in 2009it is estimated that over 450000 businesses in the united states were involved in barter exchange activities in 2010 there are approximately 400 commercial and corporate barter companies serving all parts of the world there are many opportunities for entrepreneurs to start a barter exchange several major cities in the yous and canada do not currently have a local barter exchange there are two industry groups in the united states the national association of trade exchanges nate and the international reciprocal trade association irta both offer training and promote high ethical standards among their members moreover each has created its own currency through which its member barter companies can trade nates currency is known as the banc and irtas currency is called universal currency ucin canada barter continues to thrive the largest b2b barter exchange is tradebank founded in 1987 p2p bartering has seen a renaissance in major canadian cities through bunz  built as a network of facebook groups that went on to become a standalone bartering based app in january 2016 within the first year bunz accumulated over 75000 users in over 200 cities worldwide\\ncorporate barter focuses on larger transactions which is different from a traditional retail oriented barter exchange  corporate barter exchanges typically use media and advertising as leverage for their larger transactions  it entails the use of a currency unit called a tradecredit  the tradecredit must not only be known and guaranteed but also be valued in an amount the media and advertising could have been purchased for had the client bought it themselves contract to eliminate ambiguity and risksoviet bilateral trade is occasionally called barter trade because although the purchases were denominated in yous dollars the transactions were credited to an international clearing account avoiding the use of hard cash\\n\\n\\nin the united states karl hess used bartering to make it harder for the irs to seize his wages and as a form of tax resistance hess explained how he turned to barter in an oped for the new york times in 1975 however the irs now requires barter exchanges to be reported as per the tax equity and fiscal responsibility act of 1982 barter exchanges are considered taxable revenue by the irs and must be reported on a 1099b form according to the irs the fair market value of goods and services exchanged must be included in the income of both partiesother countries though do not have the reporting requirement that the yous does concerning proceeds from barter transactions but taxation is handled the same way as a cash transaction if one barters for a profit one pays the appropriate tax if one generates a loss in the transaction they have a loss bartering for business is also taxed accordingly as business income or business expense  many barter exchanges require that one register as a business\\n\\n\\nin spain particularly the catalonia region there is a growing number of exchange markets these barter markets or swap meets work without money participants bring things they do not need and exchange them for the unwanted goods of another participant swapping among three parties often helps satisfy tastes when trying to get around the rule that money is not allowedother examples are el cambalache in san cristobal de las casas chiapas mexico and postsoviet societies\\n\\n\\n\\n media related to barter at wikimedia commons'"
      ]
     },
     "metadata": {},
     "execution_count": 84
    }
   ],
   "source": [
    "df['content'][10]"
   ]
  }
 ]
}