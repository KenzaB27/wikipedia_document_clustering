{
 "metadata": {
  "language_info": {
   "codemirror_mode": {
    "name": "ipython",
    "version": 3
   },
   "file_extension": ".py",
   "mimetype": "text/x-python",
   "name": "python",
   "nbconvert_exporter": "python",
   "pygments_lexer": "ipython3",
   "version": "3.8.6-final"
  },
  "orig_nbformat": 2,
  "kernelspec": {
   "name": "python3",
   "display_name": "Python 3",
   "language": "python"
  }
 },
 "nbformat": 4,
 "nbformat_minor": 2,
 "cells": [
  {
   "cell_type": "code",
   "execution_count": 170,
   "metadata": {},
   "outputs": [],
   "source": [
    "import pandas as pd\n",
    "import numpy as np\n",
    "import nltk\n",
    "import importlib\n",
    "import utils.preprocessing as preprocessing"
   ]
  },
  {
   "source": [
    "# Data Preprocessing\n",
    "\n",
    "In this first part we will be Preprocessing text data to prepare them for clustering and classification. This will include the following steps:\n",
    "* Noise Removal\n",
    "* Normalization\n",
    "* Tekenization & Segmentation \n",
    "\n",
    "## Data Loading"
   ],
   "cell_type": "markdown",
   "metadata": {}
  },
  {
   "cell_type": "code",
   "execution_count": 171,
   "metadata": {
    "tags": []
   },
   "outputs": [
    {
     "output_type": "execute_result",
     "data": {
      "text/plain": [
       "                     title                                            content  \\\n",
       "278          Computer worm  <p>A <b>computer worm</b> is a standalone malw...   \n",
       "204             Sports car  <p class=\"mw-empty-elt\">\\n</p>\\n\\n\\n<p>A <b>sp...   \n",
       "93   Social responsibility  <p><b>Social responsibility </b> is an ethical...   \n",
       "159       Electromechanics  <p>In engineering, <b>electromechanics</b> com...   \n",
       "192                    Bus  <p class=\"mw-empty-elt\">\\n\\n</p>\\n\\n\\n\\n\\n<p>A...   \n",
       "\n",
       "             topic  \n",
       "278  cybersecurity  \n",
       "204     technology  \n",
       "93        business  \n",
       "159     technology  \n",
       "192     technology  "
      ],
      "text/html": "<div>\n<style scoped>\n    .dataframe tbody tr th:only-of-type {\n        vertical-align: middle;\n    }\n\n    .dataframe tbody tr th {\n        vertical-align: top;\n    }\n\n    .dataframe thead th {\n        text-align: right;\n    }\n</style>\n<table border=\"1\" class=\"dataframe\">\n  <thead>\n    <tr style=\"text-align: right;\">\n      <th></th>\n      <th>title</th>\n      <th>content</th>\n      <th>topic</th>\n    </tr>\n  </thead>\n  <tbody>\n    <tr>\n      <th>278</th>\n      <td>Computer worm</td>\n      <td>&lt;p&gt;A &lt;b&gt;computer worm&lt;/b&gt; is a standalone malw...</td>\n      <td>cybersecurity</td>\n    </tr>\n    <tr>\n      <th>204</th>\n      <td>Sports car</td>\n      <td>&lt;p class=\"mw-empty-elt\"&gt;\\n&lt;/p&gt;\\n\\n\\n&lt;p&gt;A &lt;b&gt;sp...</td>\n      <td>technology</td>\n    </tr>\n    <tr>\n      <th>93</th>\n      <td>Social responsibility</td>\n      <td>&lt;p&gt;&lt;b&gt;Social responsibility &lt;/b&gt; is an ethical...</td>\n      <td>business</td>\n    </tr>\n    <tr>\n      <th>159</th>\n      <td>Electromechanics</td>\n      <td>&lt;p&gt;In engineering, &lt;b&gt;electromechanics&lt;/b&gt; com...</td>\n      <td>technology</td>\n    </tr>\n    <tr>\n      <th>192</th>\n      <td>Bus</td>\n      <td>&lt;p class=\"mw-empty-elt\"&gt;\\n\\n&lt;/p&gt;\\n\\n\\n\\n\\n&lt;p&gt;A...</td>\n      <td>technology</td>\n    </tr>\n  </tbody>\n</table>\n</div>"
     },
     "metadata": {},
     "execution_count": 171
    }
   ],
   "source": [
    "df = pd.read_pickle(\"data/dataset_business_technology_cybersecurity.pickle\")\n",
    "df = pd.DataFrame(df)\n",
    "df.sample(5)"
   ]
  },
  {
   "cell_type": "code",
   "execution_count": 172,
   "metadata": {},
   "outputs": [],
   "source": [
    "# explore the data format in a txt file \n",
    "df.to_csv(\"data/backup_preprocess/content.txt\")"
   ]
  },
  {
   "source": [
    "## Noise Removal\n",
    "Noise removal can be defined as text-specific normalization. As we are dealing with html row data, our data preprocessing pipeline will include striping away all HTML markup with the help of the BeautifulSoup library. We will also be replacing contractions with their expansions."
   ],
   "cell_type": "markdown",
   "metadata": {}
  },
  {
   "cell_type": "code",
   "execution_count": 173,
   "metadata": {},
   "outputs": [
    {
     "output_type": "stream",
     "name": "stderr",
     "text": [
      "0it [00:00, ?it/s]\n",
      "TqdmDeprecationWarning: Please use `tqdm.pandas(...)` instead of `tqdm_pandas(tqdm(...))`.\n",
      "[nltk_data] Downloading package stopwords to\n",
      "[nltk_data]     C:\\Users\\utilisateur\\AppData\\Roaming\\nltk_data...\n",
      "[nltk_data]   Package stopwords is already up-to-date!\n",
      "[nltk_data] Downloading package wordnet to\n",
      "[nltk_data]     C:\\Users\\utilisateur\\AppData\\Roaming\\nltk_data...\n",
      "[nltk_data]   Package wordnet is already up-to-date!\n",
      "[nltk_data] Downloading package punkt to\n",
      "[nltk_data]     C:\\Users\\utilisateur\\AppData\\Roaming\\nltk_data...\n",
      "[nltk_data]   Package punkt is already up-to-date!\n",
      "333it [00:03, 109.50it/s]\n"
     ]
    }
   ],
   "source": [
    "importlib.reload(preprocessing)\n",
    "df[\"content\"] = preprocessing.remove_noise_from_df(df[\"content\"])\n",
    "# backup saving\n",
    "df.to_csv(\"data/backup_preprocess/content_without_noise.txt\")"
   ]
  },
  {
   "source": [
    "## Normalization\n",
    "Normalization refers to a series of tasks that put all text on a level of playing field: converting all text to the same case(upper or lower), removing special characters(punctuation) and numbers, stemming, lemmatization, ... Normalization puts all words on equal footing and alows processing to proceed uniformly."
   ],
   "cell_type": "markdown",
   "metadata": {}
  },
  {
   "cell_type": "code",
   "execution_count": 174,
   "metadata": {},
   "outputs": [
    {
     "output_type": "stream",
     "name": "stderr",
     "text": [
      "0it [00:00, ?it/s]\n",
      "TqdmDeprecationWarning: Please use `tqdm.pandas(...)` instead of `tqdm_pandas(tqdm(...))`.\n",
      "[nltk_data] Downloading package stopwords to\n",
      "[nltk_data]     C:\\Users\\utilisateur\\AppData\\Roaming\\nltk_data...\n",
      "[nltk_data]   Package stopwords is already up-to-date!\n",
      "[nltk_data] Downloading package wordnet to\n",
      "[nltk_data]     C:\\Users\\utilisateur\\AppData\\Roaming\\nltk_data...\n",
      "[nltk_data]   Package wordnet is already up-to-date!\n",
      "[nltk_data] Downloading package punkt to\n",
      "[nltk_data]     C:\\Users\\utilisateur\\AppData\\Roaming\\nltk_data...\n",
      "[nltk_data]   Package punkt is already up-to-date!\n",
      "333it [03:57,  1.40it/s]\n"
     ]
    }
   ],
   "source": [
    "importlib.reload(preprocessing)\n",
    "df[\"content\"] = preprocessing.normalize_df(df[\"content\"])\n",
    "# backup save\n",
    "df.to_csv(\"data/backup_preprocess/content_normalized.txt\")"
   ]
  },
  {
   "source": [
    "## Tockenization\n",
    " "
   ],
   "cell_type": "markdown",
   "metadata": {}
  },
  {
   "cell_type": "code",
   "execution_count": 177,
   "metadata": {},
   "outputs": [
    {
     "output_type": "stream",
     "name": "stderr",
     "text": [
      "0it [00:00, ?it/s]\n",
      "TqdmDeprecationWarning: Please use `tqdm.pandas(...)` instead of `tqdm_pandas(tqdm(...))`.\n",
      "[nltk_data] Downloading package stopwords to\n",
      "[nltk_data]     C:\\Users\\utilisateur\\AppData\\Roaming\\nltk_data...\n",
      "[nltk_data]   Package stopwords is already up-to-date!\n",
      "[nltk_data] Downloading package wordnet to\n",
      "[nltk_data]     C:\\Users\\utilisateur\\AppData\\Roaming\\nltk_data...\n",
      "[nltk_data]   Package wordnet is already up-to-date!\n",
      "[nltk_data] Downloading package punkt to\n",
      "[nltk_data]     C:\\Users\\utilisateur\\AppData\\Roaming\\nltk_data...\n",
      "[nltk_data]   Package punkt is already up-to-date!\n"
     ]
    },
    {
     "output_type": "execute_result",
     "data": {
      "text/plain": [
       "                  title                                            content  \\\n",
       "0            Accounting  [account, account, measur, process, commun, fi...   \n",
       "1              Commerce  [commerc, exchang, good, servic, especi, larg,...   \n",
       "2               Finance  [financ, term, matter, regard, manag, creation...   \n",
       "3  Industrial relations  [industri, relat, employ, relat, multidiscipli...   \n",
       "4            Management  [manag, manag, administr, organ, whether, busi...   \n",
       "\n",
       "      topic  \n",
       "0  business  \n",
       "1  business  \n",
       "2  business  \n",
       "3  business  \n",
       "4  business  "
      ],
      "text/html": "<div>\n<style scoped>\n    .dataframe tbody tr th:only-of-type {\n        vertical-align: middle;\n    }\n\n    .dataframe tbody tr th {\n        vertical-align: top;\n    }\n\n    .dataframe thead th {\n        text-align: right;\n    }\n</style>\n<table border=\"1\" class=\"dataframe\">\n  <thead>\n    <tr style=\"text-align: right;\">\n      <th></th>\n      <th>title</th>\n      <th>content</th>\n      <th>topic</th>\n    </tr>\n  </thead>\n  <tbody>\n    <tr>\n      <th>0</th>\n      <td>Accounting</td>\n      <td>[account, account, measur, process, commun, fi...</td>\n      <td>business</td>\n    </tr>\n    <tr>\n      <th>1</th>\n      <td>Commerce</td>\n      <td>[commerc, exchang, good, servic, especi, larg,...</td>\n      <td>business</td>\n    </tr>\n    <tr>\n      <th>2</th>\n      <td>Finance</td>\n      <td>[financ, term, matter, regard, manag, creation...</td>\n      <td>business</td>\n    </tr>\n    <tr>\n      <th>3</th>\n      <td>Industrial relations</td>\n      <td>[industri, relat, employ, relat, multidiscipli...</td>\n      <td>business</td>\n    </tr>\n    <tr>\n      <th>4</th>\n      <td>Management</td>\n      <td>[manag, manag, administr, organ, whether, busi...</td>\n      <td>business</td>\n    </tr>\n  </tbody>\n</table>\n</div>"
     },
     "metadata": {},
     "execution_count": 177
    }
   ],
   "source": [
    "importlib.reload(preprocessing)\n",
    "df[\"content\"] = df[\"content\"].progress_apply(nltk.word_tokenize)\n",
    "df.to_csv(\"data/backup_preprocess/content_tokenized.txt\")\n",
    "df.head(5)"
   ]
  }
 ]
}